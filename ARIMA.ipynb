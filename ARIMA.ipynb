{
 "cells": [
  {
   "cell_type": "markdown",
   "metadata": {},
   "source": [
    "# Poisson modeling using ARIMA models"
   ]
  },
  {
   "cell_type": "code",
   "execution_count": null,
   "metadata": {},
   "outputs": [],
   "source": [
    "import math\n",
    "import numpy\n",
    "import matplotlib.pyplot as plt\n",
    "from src.poisson import Poisson\n",
    "from src.arima import ARIMA\n",
    "from src.sarimax import SARIMAX\n",
    "from sklearn.metrics import mean_squared_error\n",
    "import statsmodels.api as sm\n",
    "import itertools\n",
    "import pylab\n",
    "%matplotlib inline"
   ]
  },
  {
   "cell_type": "markdown",
   "metadata": {},
   "source": [
    "### Example of our Poisson process"
   ]
  },
  {
   "cell_type": "code",
   "execution_count": null,
   "metadata": {
    "scrolled": false
   },
   "outputs": [],
   "source": [
    "p = Poisson()\n",
    "example, _ = p.generate(6)\n",
    "\n",
    "plt.figure(figsize=(20,7))\n",
    "plt.plot(example)"
   ]
  },
  {
   "cell_type": "markdown",
   "metadata": {},
   "source": [
    "### Apply the ARIMA model to a new data set that is more varied"
   ]
  },
  {
   "cell_type": "code",
   "execution_count": null,
   "metadata": {},
   "outputs": [],
   "source": [
    "a1,_ = p.generate(14)\n",
    "a2,_ = p.generate(3,2)\n",
    "a3,_ = p.generate(8)\n",
    "a4,_ = p.generate(2,2)\n",
    "actual = numpy.concatenate((a1,a2,a3,a4))\n",
    "\n",
    "arima = ARIMA()\n",
    "pred = arima.predict(actual)"
   ]
  },
  {
   "cell_type": "markdown",
   "metadata": {},
   "source": [
    "### Plot the prediction"
   ]
  },
  {
   "cell_type": "code",
   "execution_count": null,
   "metadata": {},
   "outputs": [],
   "source": [
    "actual = actual[71:-2]\n",
    "error = math.sqrt(mean_squared_error(pred, actual))\n",
    "\n",
    "plt.figure(figsize=(20,7))\n",
    "plt.title('RMSE: {:.2f}'.format(error))\n",
    "plt.plot(actual)\n",
    "plt.plot(pred)"
   ]
  },
  {
   "cell_type": "markdown",
   "metadata": {},
   "source": [
    "### Evaluate the residual"
   ]
  },
  {
   "cell_type": "code",
   "execution_count": null,
   "metadata": {},
   "outputs": [],
   "source": [
    "residual = []\n",
    "for i in range(len(actual)):\n",
    "    val = actual[i] - pred[i][0]\n",
    "    residual.append(val)\n",
    "\n",
    "plt.figure(figsize=(20,7))\n",
    "plt.plot(residual)"
   ]
  },
  {
   "cell_type": "markdown",
   "metadata": {},
   "source": [
    "That visually looks very far from normal."
   ]
  },
  {
   "cell_type": "markdown",
   "metadata": {},
   "source": [
    "### Draw the qq-plot of this data"
   ]
  },
  {
   "cell_type": "code",
   "execution_count": null,
   "metadata": {},
   "outputs": [],
   "source": [
    "sm.qqplot(numpy.array(residual), line='45')\n",
    "pylab.show()"
   ]
  },
  {
   "cell_type": "markdown",
   "metadata": {},
   "source": [
    "Pretty bad!"
   ]
  },
  {
   "cell_type": "markdown",
   "metadata": {},
   "source": [
    "### Use the normed Poisson and look at the residual"
   ]
  },
  {
   "cell_type": "code",
   "execution_count": null,
   "metadata": {},
   "outputs": [],
   "source": [
    "_, a1 = p.generate(14)\n",
    "_, a2 = p.generate(3,2)\n",
    "_, a3 = p.generate(8)\n",
    "_, a4 = p.generate(2,2)\n",
    "actual = numpy.concatenate((a1,a2,a3,a4))\n",
    "\n",
    "arima = ARIMA()\n",
    "pred = arima.predict(actual)\n",
    "\n",
    "actual = actual[71:-2]\n",
    "error = math.sqrt(mean_squared_error(pred, actual))\n",
    "\n",
    "residual = []\n",
    "for i in range(len(actual)):\n",
    "    val = actual[i] - pred[i][0]\n",
    "    residual.append(val)"
   ]
  },
  {
   "cell_type": "markdown",
   "metadata": {},
   "source": [
    "### Plot the residual"
   ]
  },
  {
   "cell_type": "code",
   "execution_count": null,
   "metadata": {},
   "outputs": [],
   "source": [
    "plt.figure(figsize=(20,7))\n",
    "plt.plot(residual)"
   ]
  },
  {
   "cell_type": "markdown",
   "metadata": {},
   "source": [
    "Looks a little better."
   ]
  },
  {
   "cell_type": "markdown",
   "metadata": {},
   "source": [
    "### Draw the qq-plot of the normed residual"
   ]
  },
  {
   "cell_type": "code",
   "execution_count": null,
   "metadata": {},
   "outputs": [],
   "source": [
    "sm.qqplot(numpy.array(residual), line='45')\n",
    "pylab.show()"
   ]
  },
  {
   "cell_type": "markdown",
   "metadata": {},
   "source": [
    "But it is not!"
   ]
  },
  {
   "cell_type": "markdown",
   "metadata": {},
   "source": [
    "### Let's try a wide swatch of models including seasonality, scored by AIC"
   ]
  },
  {
   "cell_type": "code",
   "execution_count": null,
   "metadata": {
    "scrolled": true
   },
   "outputs": [],
   "source": [
    "p = Poisson()\n",
    "_, a1 = p.generate(14)\n",
    "_, a2 = p.generate(3,2)\n",
    "_, a3 = p.generate(8)\n",
    "_, a4 = p.generate(2,2)\n",
    "actual = numpy.concatenate((a1,a2,a3,a4))\n",
    "\n",
    "max_order = 3\n",
    "period = 24\n",
    "\n",
    "p = d = q = range(0, max_order)\n",
    "orders = list(itertools.product(p,d,q))\n",
    "\n",
    "results = {}\n",
    "for order in orders:\n",
    "    for season in [(x[0], x[1], x[2], period) for x in orders]:\n",
    "        try:\n",
    "            mod = sm.tsa.statespace.SARIMAX(\n",
    "                actual,\n",
    "                order                 = order,\n",
    "                seasonal_order        = season,\n",
    "                enforce_stationarity  = False,\n",
    "                enforce_invertibility = False\n",
    "            )\n",
    "            res = mod.fit()\n",
    "            results[res.aic] = 'ARIMA {} x {}'.format(order, season)\n",
    "            print('ARIMA {} x {}: {}'.format(order, season, res.aic))\n",
    "        except:\n",
    "            continue\n",
    "\n",
    "s = sorted(results.iterkeys())[0]\n",
    "print('\\n{}: {}'.format(results[s], s))"
   ]
  },
  {
   "cell_type": "markdown",
   "metadata": {},
   "source": [
    "This turns out to be ARIMA (0, 0, 2) x (1, 1, 2, 24).  Let's try it."
   ]
  },
  {
   "cell_type": "code",
   "execution_count": null,
   "metadata": {},
   "outputs": [],
   "source": [
    "p = Poisson()\n",
    "\n",
    "_, a1 = p.generate(14)\n",
    "_, a2 = p.generate(3,2)\n",
    "_, a3 = p.generate(8)\n",
    "_, a4 = p.generate(2,2)\n",
    "actual = numpy.concatenate((a1,a2,a3,a4))\n",
    "\n",
    "sarimax = SARIMAX()\n",
    "pred = sarimax.predict(actual)"
   ]
  },
  {
   "cell_type": "code",
   "execution_count": null,
   "metadata": {},
   "outputs": [],
   "source": [
    "actual = actual[71:-2]\n",
    "error = math.sqrt(mean_squared_error(pred, actual))\n",
    "\n",
    "residual = []\n",
    "for i in range(len(actual)):\n",
    "    val = actual[i] - pred[i][0]\n",
    "    residual.append(val)"
   ]
  },
  {
   "cell_type": "code",
   "execution_count": null,
   "metadata": {},
   "outputs": [],
   "source": [
    "plt.figure(figsize=(20,7))\n",
    "plt.plot(residual)"
   ]
  },
  {
   "cell_type": "code",
   "execution_count": null,
   "metadata": {},
   "outputs": [],
   "source": [
    "sm.qqplot(numpy.array(residual), line='45')\n",
    "pylab.show()"
   ]
  },
  {
   "cell_type": "markdown",
   "metadata": {},
   "source": [
    "### General results\n",
    "\n",
    "The data we have here does not admit a particularly good solution with ARIMA methods.  Assuming the integral term as a means of addressing seasonality makes a big impact.  However, there are no choices of coefficient that result in a residual that is normal.  The ARIMA model does have a fairly faithful tracking of the fluctuating data because it is coupled to the data.  It tends to be better the more of the history of the function the coefficients are computed from.  For some problems this may be an adequate solution, but it should be well known that the approach leaves a lot to be desired.  Even norming the Poisson data by the mean, while changing the visual character of the residual, does not significantly alter the qq-plot."
   ]
  }
 ],
 "metadata": {
  "kernelspec": {
   "display_name": "Python 3",
   "language": "python",
   "name": "python3"
  },
  "language_info": {
   "codemirror_mode": {
    "name": "ipython",
    "version": 3
   },
   "file_extension": ".py",
   "mimetype": "text/x-python",
   "name": "python",
   "nbconvert_exporter": "python",
   "pygments_lexer": "ipython3",
   "version": "3.7.6"
  }
 },
 "nbformat": 4,
 "nbformat_minor": 2
}
